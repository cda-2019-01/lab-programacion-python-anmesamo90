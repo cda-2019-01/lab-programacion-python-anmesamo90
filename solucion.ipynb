{
 "cells": [
  {
   "cell_type": "code",
   "execution_count": 23,
   "metadata": {},
   "outputs": [],
   "source": [
    "#SOLUCION PREGUNTA 1"
   ]
  },
  {
   "cell_type": "code",
   "execution_count": 43,
   "metadata": {},
   "outputs": [
    {
     "name": "stdout",
     "output_type": "stream",
     "text": [
      "190\n"
     ]
    }
   ],
   "source": [
    "file = open('data.csv', 'r').readlines()\n",
    "file = [row[0:-1] for row in file]\n",
    "\n",
    "# print(file)\n",
    "file = [row.split('\\t') for row in file]\n",
    "\n",
    "# data =[]\n",
    "# for idx, arr in enumerate(file):\n",
    "#     data.append([])\n",
    "#     for elmt in arr:\n",
    "#         elemt =elemt.split(',')\n",
    "#         data [idx]+= elemt\n",
    "\n",
    "# for e in data:\n",
    "#     print(e)\n",
    "\n",
    "\n",
    "suma_col=0\n",
    "for i in file:\n",
    "    suma_col = suma_col + int(i[1])\n",
    "print(suma_col)"
   ]
  },
  {
   "cell_type": "code",
   "execution_count": 44,
   "metadata": {},
   "outputs": [],
   "source": [
    "#SOLUCION PREGUNTA 2"
   ]
  },
  {
   "cell_type": "code",
   "execution_count": 45,
   "metadata": {},
   "outputs": [
    {
     "name": "stdout",
     "output_type": "stream",
     "text": [
      "A,8\n",
      "B,7\n",
      "C,5\n",
      "D,6\n",
      "E,14\n"
     ]
    }
   ],
   "source": [
    "file = open('data.csv', 'r').readlines()\n",
    "file = [row[0:-1] for row in file]\n",
    "file = [row.split('\\t') for row in file]\n",
    "data=file\n",
    "result={}\n",
    "\n",
    "for element in data:\n",
    "    result[element[0]]=0\n",
    "\n",
    "for element in data:\n",
    "    result[element[0]]=result[element[0]]+1\n",
    "\n",
    "for key in sorted(result.keys()):\n",
    "    print(key + ',' + str(result[key]))\n",
    "    \n",
    "# for element, key in enumerate(result):\n",
    "#     print(str(key)+','+str(result[key]))"
   ]
  },
  {
   "cell_type": "code",
   "execution_count": 46,
   "metadata": {},
   "outputs": [],
   "source": [
    "# SOLUCION PREGUNTA 3"
   ]
  },
  {
   "cell_type": "code",
   "execution_count": 47,
   "metadata": {},
   "outputs": [
    {
     "name": "stdout",
     "output_type": "stream",
     "text": [
      "A,37\n",
      "B,36\n",
      "C,27\n",
      "D,23\n",
      "E,67\n"
     ]
    }
   ],
   "source": [
    "file = open('data.csv', 'r').readlines()\n",
    "file = [row[0:-1] for row in file]\n",
    "file = [row.split('\\t') for row in file]\n",
    "data=file\n",
    "result={}\n",
    "\n",
    "for element in data:\n",
    "    result[element[0]]=0\n",
    "\n",
    "for element in data:\n",
    "    result[element[0]]=result[element[0]]+int(element[1])\n",
    "\n",
    "for key in sorted(result.keys()):\n",
    "    print(key + ',' + str(result[key]))\n",
    "    "
   ]
  },
  {
   "cell_type": "code",
   "execution_count": 48,
   "metadata": {},
   "outputs": [],
   "source": [
    "# SOLUCION PREGUNTA 4"
   ]
  },
  {
   "cell_type": "code",
   "execution_count": 49,
   "metadata": {},
   "outputs": [
    {
     "name": "stdout",
     "output_type": "stream",
     "text": [
      "01,3\n",
      "02,4\n",
      "03,2\n",
      "04,4\n",
      "05,3\n",
      "06,3\n",
      "07,5\n",
      "08,6\n",
      "09,3\n",
      "10,2\n",
      "11,2\n",
      "12,3\n"
     ]
    }
   ],
   "source": [
    "file = open('data.csv', 'r').readlines()\n",
    "file = [row[0:-1] for row in file]\n",
    "file = [row.split('\\t') for row in file]\n",
    "data=file\n",
    "result={}\n",
    "\n",
    "for element in data:\n",
    "    result[(element[2].split('-')[1])]=0\n",
    "\n",
    "for element in data:\n",
    "    result[(element[2].split('-')[1])]=result[(element[2].split('-')[1])]+1\n",
    "\n",
    "for key in sorted(result.keys()):\n",
    "    print(key + ',' + str(result[key]))"
   ]
  },
  {
   "cell_type": "code",
   "execution_count": 50,
   "metadata": {},
   "outputs": [],
   "source": [
    "# SOLUCION PREGUNTA 5"
   ]
  },
  {
   "cell_type": "code",
   "execution_count": 51,
   "metadata": {},
   "outputs": [
    {
     "name": "stdout",
     "output_type": "stream",
     "text": [
      "A,9,1\n",
      "B,9,1\n",
      "C,9,0\n",
      "D,7,1\n",
      "E,9,1\n"
     ]
    }
   ],
   "source": [
    "file = open('data.csv', 'r').readlines()\n",
    "file = [row[0:-1] for row in file]\n",
    "file = [row.split('\\t') for row in file]\n",
    "data=file\n",
    "result={}\n",
    "\n",
    "for element in data:\n",
    "    result[element[0]]=[]\n",
    "\n",
    "for element in data:\n",
    "    result[element[0]].append(int(element[1]))\n",
    "\n",
    "for key in sorted(result.keys()):\n",
    "    print(key + ',' + str(max(result[key]))+ ',' + str(min(result[key])))"
   ]
  },
  {
   "cell_type": "code",
   "execution_count": 41,
   "metadata": {},
   "outputs": [],
   "source": [
    "# SOLUCION PREGUNTA 6"
   ]
  },
  {
   "cell_type": "code",
   "execution_count": 53,
   "metadata": {},
   "outputs": [
    {
     "ename": "IndexError",
     "evalue": "list index out of range",
     "output_type": "error",
     "traceback": [
      "\u001b[0;31m---------------------------------------------------------------------------\u001b[0m",
      "\u001b[0;31mIndexError\u001b[0m                                Traceback (most recent call last)",
      "\u001b[0;32m<ipython-input-53-70dba69281d4>\u001b[0m in \u001b[0;36m<module>\u001b[0;34m\u001b[0m\n\u001b[1;32m      9\u001b[0m \u001b[0;34m\u001b[0m\u001b[0m\n\u001b[1;32m     10\u001b[0m \u001b[0;32mfor\u001b[0m \u001b[0melement\u001b[0m \u001b[0;32min\u001b[0m \u001b[0mdata\u001b[0m\u001b[0;34m:\u001b[0m\u001b[0;34m\u001b[0m\u001b[0;34m\u001b[0m\u001b[0m\n\u001b[0;32m---> 11\u001b[0;31m     \u001b[0mresult\u001b[0m\u001b[0;34m[\u001b[0m\u001b[0melement\u001b[0m\u001b[0;34m[\u001b[0m\u001b[0;36m4\u001b[0m\u001b[0;34m]\u001b[0m\u001b[0;34m]\u001b[0m\u001b[0;34m.\u001b[0m\u001b[0mappend\u001b[0m\u001b[0;34m(\u001b[0m\u001b[0mint\u001b[0m\u001b[0;34m(\u001b[0m\u001b[0melement\u001b[0m\u001b[0;34m[\u001b[0m\u001b[0;36m5\u001b[0m\u001b[0;34m]\u001b[0m\u001b[0;34m)\u001b[0m\u001b[0;34m)\u001b[0m\u001b[0;34m\u001b[0m\u001b[0;34m\u001b[0m\u001b[0m\n\u001b[0m\u001b[1;32m     12\u001b[0m \u001b[0;34m\u001b[0m\u001b[0m\n\u001b[1;32m     13\u001b[0m \u001b[0;32mfor\u001b[0m \u001b[0mkey\u001b[0m \u001b[0;32min\u001b[0m \u001b[0msorted\u001b[0m\u001b[0;34m(\u001b[0m\u001b[0mresult\u001b[0m\u001b[0;34m.\u001b[0m\u001b[0mkeys\u001b[0m\u001b[0;34m(\u001b[0m\u001b[0;34m)\u001b[0m\u001b[0;34m)\u001b[0m\u001b[0;34m:\u001b[0m\u001b[0;34m\u001b[0m\u001b[0;34m\u001b[0m\u001b[0m\n",
      "\u001b[0;31mIndexError\u001b[0m: list index out of range"
     ]
    }
   ],
   "source": [
    "file = open('data.csv', 'r').readlines()\n",
    "file = [row[0:-1] for row in file]\n",
    "file = [row.split('\\t') for row in file]\n",
    "data=file\n",
    "result={}\n",
    "\n",
    "for element in data:\n",
    "    result[element[4]]=[]\n",
    "\n",
    "for element in data:\n",
    "    result[element[4]].append(int(element[5]))\n",
    "\n",
    "for key in sorted(result.keys()):\n",
    "    print(key + ',' + str(max(result[key]))+ ',' + str(min(result[key])))"
   ]
  },
  {
   "cell_type": "code",
   "execution_count": 54,
   "metadata": {},
   "outputs": [],
   "source": [
    "# SOLUCION PREGUNTA 7"
   ]
  },
  {
   "cell_type": "code",
   "execution_count": 61,
   "metadata": {},
   "outputs": [
    {
     "name": "stdout",
     "output_type": "stream",
     "text": [
      "('0', ['C'])\n",
      "('1', ['E', 'B', 'D', 'A', 'A', 'E'])\n",
      "('2', ['A', 'E', 'D'])\n",
      "('3', ['A', 'B', 'D', 'E', 'E'])\n",
      "('4', ['E', 'B'])\n",
      "('5', ['B', 'C', 'D', 'D', 'E', 'E', 'E'])\n",
      "('6', ['C', 'E', 'A', 'B'])\n",
      "('7', ['A', 'C', 'E', 'D'])\n",
      "('8', ['E', 'E', 'A', 'B'])\n",
      "('9', ['A', 'B', 'E', 'C'])\n"
     ]
    }
   ],
   "source": [
    "file = open('data.csv', 'r').readlines()\n",
    "file = [row[0:-1] for row in file]\n",
    "file = [row.split('\\t') for row in file]\n",
    "data=file\n",
    "result={}\n",
    "\n",
    "for element in data:\n",
    "    result[element[1]]=[]\n",
    "\n",
    "for element in data:\n",
    "    result[element[1]].append(element[0])\n",
    "    \n",
    "for i in sorted(result.items()):\n",
    "    print(i)\n",
    "    \n",
    "#"
   ]
  },
  {
   "cell_type": "code",
   "execution_count": 62,
   "metadata": {},
   "outputs": [],
   "source": [
    "# SOLUCION PREGUNTA 8"
   ]
  },
  {
   "cell_type": "code",
   "execution_count": null,
   "metadata": {},
   "outputs": [],
   "source": [
    "file = open('data.csv', 'r').readlines()\n",
    "file = [row[0:-1] for row in file]\n",
    "file = [row.split('\\t') for row in file]\n",
    "data=file\n",
    "result={}\n",
    "\n",
    "for element in data:\n",
    "    result[element[1]]=[]\n",
    "\n",
    "for element in data:\n",
    "    result[element[1]].append(element[0])\n",
    "    \n",
    "result2={}\n",
    "\n",
    "for i in sorted (i[1])\n",
    "\n"
   ]
  }
 ],
 "metadata": {
  "kernelspec": {
   "display_name": "Python 3",
   "language": "python",
   "name": "python3"
  },
  "language_info": {
   "codemirror_mode": {
    "name": "ipython",
    "version": 3
   },
   "file_extension": ".py",
   "mimetype": "text/x-python",
   "name": "python",
   "nbconvert_exporter": "python",
   "pygments_lexer": "ipython3",
   "version": "3.6.7"
  }
 },
 "nbformat": 4,
 "nbformat_minor": 2
}
